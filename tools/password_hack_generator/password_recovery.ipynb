{
 "cells": [
  {
   "cell_type": "code",
   "execution_count": 1,
   "metadata": {},
   "outputs": [],
   "source": [
    "import random\n",
    "import pandas as pd\n",
    "import json"
   ]
  },
  {
   "cell_type": "code",
   "execution_count": 22,
   "metadata": {},
   "outputs": [
    {
     "name": "stdin",
     "output_type": "stream",
     "text": [
      "Please input what you thought your password was:  Hello\n"
     ]
    }
   ],
   "source": [
    "word = input('Please input what you thought your password was: ').lower()"
   ]
  },
  {
   "cell_type": "code",
   "execution_count": 23,
   "metadata": {},
   "outputs": [
    {
     "data": {
      "text/plain": [
       "'hello'"
      ]
     },
     "execution_count": 23,
     "metadata": {},
     "output_type": "execute_result"
    }
   ],
   "source": [
    "word"
   ]
  },
  {
   "cell_type": "code",
   "execution_count": 21,
   "metadata": {},
   "outputs": [
    {
     "data": {
      "text/plain": [
       "'6'"
      ]
     },
     "execution_count": 21,
     "metadata": {},
     "output_type": "execute_result"
    }
   ],
   "source": [
    "f = open('1337.json', 'r')\n",
    "r = json.loads(f.read())\n",
    "# print(json.dumps(r, indent=4))\n",
    "r['1337']['numbers']['b'][1]"
   ]
  },
  {
   "cell_type": "code",
   "execution_count": 1,
   "metadata": {},
   "outputs": [],
   "source": [
    "pw = {\n",
    "    'a':['a', '4']\n",
    "    'p':['p'],\n",
    "    'i':['i', '1', '!'],\n",
    "    'x':['x'],\n",
    "    'e':['e', '3'],\n",
    "    'l':['l'],\n",
    "    'i':['i', '1', '!'],\n",
    "    'n':['n'],\n",
    "    'e':['e', '3']\n",
    "}\n",
    "\n",
    "# Initialize empty variation\n",
    "variation = ''\n",
    "\n",
    "# Initialize empty list of variations\n",
    "variations = []\n",
    "\n",
    "# lowercase variations\n",
    "variations_lower = []\n",
    "for i in range(1000):\n",
    "    \n",
    "    variation = ''\n",
    "    \n",
    "    for letter in word:\n",
    "        l = random.choice(pw[letter])\n",
    "        variation += l\n",
    "#     print(variation)\n",
    "        \n",
    "    if variation not in variations_lower:\n",
    "        variations_lower.append(variation)\n",
    "    else:\n",
    "        continue\n",
    "\n",
    "df_lower = pd.DataFrame(variations_lower)\n",
    "df_lower.columns = ['variation']\n",
    "df_lower['tested'] = ''\n",
    "df_lower.to_csv('lower.csv')\n",
    "\n",
    "\n",
    "# Capitalized variations    \n",
    "variations_capitalized = []\n",
    "for each in variations_lower:\n",
    "    variations_capitalized.append(each.capitalize())\n",
    "\n",
    "df_cap = pd.DataFrame(variations_capitalized)\n",
    "df_cap.columns = ['variation']\n",
    "df_cap['tested'] = ''\n",
    "df_cap.to_csv('capitalized.csv')\n",
    "\n",
    "\n",
    "# Uppercase variations\n",
    "variations_upper = []\n",
    "for each in variations_lower:\n",
    "    variations_upper.append(each.upper())\n",
    "    \n",
    "df_upper = pd.DataFrame(variations_upper)\n",
    "df_upper.columns = ['variation']\n",
    "df_upper['tested'] = ''\n",
    "df_upper.to_csv('upper.csv')"
   ]
  },
  {
   "cell_type": "code",
   "execution_count": null,
   "metadata": {},
   "outputs": [],
   "source": []
  }
 ],
 "metadata": {
  "kernelspec": {
   "display_name": "Python 3",
   "language": "python",
   "name": "python3"
  },
  "language_info": {
   "codemirror_mode": {
    "name": "ipython",
    "version": 3
   },
   "file_extension": ".py",
   "mimetype": "text/x-python",
   "name": "python",
   "nbconvert_exporter": "python",
   "pygments_lexer": "ipython3",
   "version": "3.7.0"
  }
 },
 "nbformat": 4,
 "nbformat_minor": 2
}
